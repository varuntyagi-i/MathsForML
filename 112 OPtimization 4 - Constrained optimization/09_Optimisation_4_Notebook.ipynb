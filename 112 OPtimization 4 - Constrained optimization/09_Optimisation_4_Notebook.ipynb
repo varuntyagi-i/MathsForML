{
 "cells": [
  {
   "cell_type": "code",
   "execution_count": 8,
   "id": "063191f2",
   "metadata": {},
   "outputs": [],
   "source": [
    "import numpy as np\n",
    "from matplotlib import pyplot as plt\n",
    "import seaborn as sns"
   ]
  },
  {
   "cell_type": "code",
   "execution_count": 9,
   "id": "61bc410b",
   "metadata": {},
   "outputs": [
    {
     "data": {
      "image/png": "[encoded data removed]",
      "text/plain": [
       "<Figure size 432x288 with 1 Axes>"
      ]
     },
     "metadata": {
      "needs_background": "light"
     },
     "output_type": "display_data"
    }
   ],
   "source": [
    "def f(x):\n",
    "  ## Try changing this\n",
    "  return x**2\n",
    "\n",
    "## Plot f(x)\n",
    "x = np.arange(-10, 10, 0.01)\n",
    "y = f(x)\n",
    "\n",
    "plt.figure()\n",
    "plt.plot(x, y)\n",
    "plt.show()"
   ]
  },
  {
   "cell_type": "code",
   "execution_count": 10,
   "id": "1762866e",
   "metadata": {},
   "outputs": [],
   "source": [
    "# This function takes derivative of f at point x\n",
    "def derivative(x, f):\n",
    "  delta = 0.0001\n",
    "  return (f(x + delta) - f(x)) / delta\n",
    "\n",
    "# This function does exactly one update to my parameter x\n",
    "def one_step_gd(x, f, lr): # lr -> learning rate, same as \\eta\n",
    "  grad = derivative(x, f)\n",
    "  new_x = x - lr * grad\n",
    "  new_fx = f(new_x)\n",
    "  return new_x, new_fx, grad"
   ]
  },
  {
   "cell_type": "code",
   "execution_count": 11,
   "id": "df41247d",
   "metadata": {},
   "outputs": [],
   "source": [
    "## Define the initial random guess\n",
    "x0 = -5\n",
    "num_steps = 0 # Same as t in the update equation\n",
    "\n",
    "# Let us save all our steps.\n",
    "xs = []\n",
    "fxs = []\n",
    "grads = []"
   ]
  },
  {
   "cell_type": "code",
   "execution_count": 30,
   "id": "83521e9c",
   "metadata": {},
   "outputs": [
    {
     "name": "stdout",
     "output_type": "stream",
     "text": [
      "-0.07210687346188058\n"
     ]
    },
    {
     "data": {
      "image/png": "[encoded data removed]",
      "text/plain": [
       "<Figure size 432x288 with 1 Axes>"
      ]
     },
     "metadata": {
      "needs_background": "light"
     },
     "output_type": "display_data"
    }
   ],
   "source": [
    "## Lets plot!!\n",
    "plt.figure()\n",
    "\n",
    "# First, plot the function\n",
    "x = np.arange(-10, 10, 0.01)\n",
    "y = f(x)\n",
    "plt.plot(x, y)\n",
    "\n",
    "# Now apply gradient descent\n",
    "new_x, new_fx, grad = one_step_gd(x0, f, 0.1)\n",
    "xs.append(new_x)\n",
    "fxs.append(new_fx)\n",
    "grads.append(grad)\n",
    "num_steps += 1\n",
    "\n",
    "# Next, plot the old guess and the gradient at that point\n",
    "t_c = f(x0) - grads[-1] * x0\n",
    "delta = 2.\n",
    "t_x = np.arange(x0 - delta, x0 + delta, 0.01)\n",
    "t_y = grads[-1] * t_x + t_c\n",
    "plt.plot(t_x, t_y, color=\"black\")\n",
    "\n",
    "# Next, plot the other guesses\n",
    "for i in range(num_steps-1):\n",
    "  plt.plot(xs[i], fxs[i], marker=\"o\", markersize=5, markeredgecolor=\"green\", markerfacecolor=\"green\")\n",
    "\n",
    "plt.plot(x0, f(x0), marker=\"o\", markersize=5, markeredgecolor=\"red\", markerfacecolor=\"red\")\n",
    "plt.plot(xs[-1], fxs[-1], marker=\"o\", markersize=5, markeredgecolor=\"orange\", markerfacecolor=\"orange\")\n",
    "\n",
    "print(new_x)\n",
    "x0 = new_x\n",
    "plt.show()"
   ]
  },
  {
   "cell_type": "code",
   "execution_count": null,
   "id": "12dfd7f7",
   "metadata": {},
   "outputs": [],
   "source": []
  },
  {
   "cell_type": "code",
   "execution_count": null,
   "id": "425ac2d4",
   "metadata": {},
   "outputs": [],
   "source": []
  },
  {
   "cell_type": "code",
   "execution_count": null,
   "id": "d2c8c71a",
   "metadata": {},
   "outputs": [],
   "source": []
  },
  {
   "cell_type": "code",
   "execution_count": null,
   "id": "8844861b",
   "metadata": {},
   "outputs": [],
   "source": []
  },
  {
   "cell_type": "code",
   "execution_count": null,
   "id": "b40ff8c0",
   "metadata": {},
   "outputs": [],
   "source": []
  },
  {
   "cell_type": "code",
   "execution_count": null,
   "id": "f070db3c",
   "metadata": {},
   "outputs": [],
   "source": []
  },
  {
   "cell_type": "code",
   "execution_count": null,
   "id": "b3f291eb",
   "metadata": {},
   "outputs": [],
   "source": []
  },
  {
   "cell_type": "code",
   "execution_count": null,
   "id": "90b465ff",
   "metadata": {},
   "outputs": [],
   "source": []
  },
  {
   "cell_type": "code",
   "execution_count": null,
   "id": "6df6032f",
   "metadata": {},
   "outputs": [],
   "source": []
  },
  {
   "cell_type": "code",
   "execution_count": null,
   "id": "730e1e62",
   "metadata": {},
   "outputs": [],
   "source": []
  },
  {
   "cell_type": "code",
   "execution_count": null,
   "id": "9f16e0b1",
   "metadata": {},
   "outputs": [],
   "source": []
  },
  {
   "cell_type": "code",
   "execution_count": null,
   "id": "c56fac77",
   "metadata": {},
   "outputs": [],
   "source": []
  },
  {
   "cell_type": "code",
   "execution_count": null,
   "id": "ab0ead38",
   "metadata": {},
   "outputs": [],
   "source": []
  },
  {
   "cell_type": "code",
   "execution_count": null,
   "id": "19c3690d",
   "metadata": {},
   "outputs": [],
   "source": []
  },
  {
   "cell_type": "code",
   "execution_count": null,
   "id": "06eb1b3e",
   "metadata": {},
   "outputs": [],
   "source": []
  },
  {
   "cell_type": "code",
   "execution_count": null,
   "id": "6df0d9e2",
   "metadata": {},
   "outputs": [],
   "source": []
  },
  {
   "cell_type": "code",
   "execution_count": null,
   "id": "b83c6fe7",
   "metadata": {},
   "outputs": [],
   "source": []
  },
  {
   "cell_type": "code",
   "execution_count": null,
   "id": "7c947d21",
   "metadata": {},
   "outputs": [],
   "source": []
  },
  {
   "cell_type": "code",
   "execution_count": null,
   "id": "85d921df",
   "metadata": {},
   "outputs": [],
   "source": []
  }
 ],
 "metadata": {
  "kernelspec": {
   "display_name": "Python 3 (ipykernel)",
   "language": "python",
   "name": "python3"
  },
  "language_info": {
   "codemirror_mode": {
    "name": "ipython",
    "version": 3
   },
   "file_extension": ".py",
   "mimetype": "text/x-python",
   "name": "python",
   "nbconvert_exporter": "python",
   "pygments_lexer": "ipython3",
   "version": "3.9.7"
  },
  "varInspector": {
   "cols": {
    "lenName": 16,
    "lenType": 16,
    "lenVar": 40
   },
   "kernels_config": {
    "python": {
     "delete_cmd_postfix": "",
     "delete_cmd_prefix": "del ",
     "library": "var_list.py",
     "varRefreshCmd": "print(var_dic_list())"
    },
    "r": {
     "delete_cmd_postfix": ") ",
     "delete_cmd_prefix": "rm(",
     "library": "var_list.r",
     "varRefreshCmd": "cat(var_dic_list()) "
    }
   },
   "types_to_exclude": [
    "module",
    "function",
    "builtin_function_or_method",
    "instance",
    "_Feature"
   ],
   "window_display": false
  }
 },
 "nbformat": 4,
 "nbformat_minor": 5
}
