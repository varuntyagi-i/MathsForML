{
 "cells": [
  {
   "cell_type": "code",
   "execution_count": 6,
   "metadata": {},
   "outputs": [],
   "source": [
    "def straight_line_or_not(coordinates):\n",
    "\n",
    "    \"\"\"\n",
    "        Input is the list of tuples containg the coordiantes.\n",
    "        Fucntion computes the slope and intercept if the points lies in a straight line.\n",
    "        If lie straight line return the tuple (slope,intercept) having float values till one deciaml point.\n",
    "        else, return -1\n",
    "    \"\"\"\n",
    "    # YOUR CODE GOES HERE\n",
    "    x0 = coordinates[0][0]\n",
    "    y0 = coordinates[0][1]\n",
    "    mold=None\n",
    "    for i in range(1, len(coordinates)):\n",
    "        x1 = coordinates[i][0]\n",
    "        y1 = coordinates[i][1]\n",
    "        mnew = (y1-y0) / (x1-x0)\n",
    "        if mold is None or mold == mnew:\n",
    "            mold = mnew\n",
    "        else:\n",
    "            return -1\n",
    "    \n",
    "    return (mold, y0-(mold*x0))\n"
   ]
  },
  {
   "cell_type": "code",
   "execution_count": 8,
   "metadata": {},
   "outputs": [
    {
     "data": {
      "text/plain": [
       "-1"
      ]
     },
     "execution_count": 8,
     "metadata": {},
     "output_type": "execute_result"
    }
   ],
   "source": [
    "# coordinates = [(1.0, 5.0), (-3.0, -3.0), (2.5, 8.0)]\n",
    "coordinates = [(5.0, 5.0), (-2.0, -3.0), (0.0, 0.0), (14.0, 6.7), (-3.0, -6.3)]\n",
    "straight_line_or_not(coordinates)"
   ]
  },
  {
   "cell_type": "code",
   "execution_count": null,
   "metadata": {},
   "outputs": [],
   "source": []
  }
 ],
 "metadata": {
  "kernelspec": {
   "display_name": ".venv",
   "language": "python",
   "name": "python3"
  },
  "language_info": {
   "codemirror_mode": {
    "name": "ipython",
    "version": 3
   },
   "file_extension": ".py",
   "mimetype": "text/x-python",
   "name": "python",
   "nbconvert_exporter": "python",
   "pygments_lexer": "ipython3",
   "version": "3.10.12"
  },
  "orig_nbformat": 4
 },
 "nbformat": 4,
 "nbformat_minor": 2
}
